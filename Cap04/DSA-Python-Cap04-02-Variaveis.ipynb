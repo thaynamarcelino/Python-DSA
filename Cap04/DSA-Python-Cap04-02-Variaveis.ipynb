{
 "cells": [
  {
   "cell_type": "markdown",
   "id": "15b74e68",
   "metadata": {},
   "source": [
    "# Data Science Academy\n",
    "## Fundamentos de linguagem Python para análise de dados e data science\n",
    "## Capítulo 4 - Variáveis e Operadores"
   ]
  },
  {
   "cell_type": "code",
   "execution_count": 1,
   "id": "53d856db",
   "metadata": {},
   "outputs": [
    {
     "name": "stdout",
     "output_type": "stream",
     "text": [
      "Versão da linguagem Python usada neste Jupyter Notebook: 3.9.13\n"
     ]
    }
   ],
   "source": [
    "# Versão da linguagem Python\n",
    "from platform import python_version\n",
    "print('Versão da linguagem Python usada neste Jupyter Notebook:' , python_version())"
   ]
  },
  {
   "cell_type": "markdown",
   "id": "a77147f4",
   "metadata": {},
   "source": [
    "### Trabalhando com variáveis"
   ]
  },
  {
   "cell_type": "code",
   "execution_count": 2,
   "id": "8cbb8aeb",
   "metadata": {},
   "outputs": [],
   "source": [
    "# Atribuindo o valor 1 à variável var_teste\n",
    "var_teste = 1"
   ]
  },
  {
   "cell_type": "code",
   "execution_count": 3,
   "id": "2467cc5f",
   "metadata": {},
   "outputs": [
    {
     "data": {
      "text/plain": [
       "1"
      ]
     },
     "execution_count": 3,
     "metadata": {},
     "output_type": "execute_result"
    }
   ],
   "source": [
    "# Imprimindo o valor da variável\n",
    "var_teste"
   ]
  },
  {
   "cell_type": "code",
   "execution_count": 4,
   "id": "fb69df6a",
   "metadata": {},
   "outputs": [
    {
     "name": "stdout",
     "output_type": "stream",
     "text": [
      "1\n"
     ]
    }
   ],
   "source": [
    "# Imprimindo o valor da variável\n",
    "print(var_teste)"
   ]
  },
  {
   "cell_type": "code",
   "execution_count": 5,
   "id": "ea772619",
   "metadata": {
    "scrolled": true
   },
   "outputs": [
    {
     "ename": "NameError",
     "evalue": "name 'my_var' is not defined",
     "output_type": "error",
     "traceback": [
      "\u001b[1;31m---------------------------------------------------------------------------\u001b[0m",
      "\u001b[1;31mNameError\u001b[0m                                 Traceback (most recent call last)",
      "\u001b[1;32m~\\AppData\\Local\\Temp\\ipykernel_9784\\2012041309.py\u001b[0m in \u001b[0;36m<module>\u001b[1;34m\u001b[0m\n\u001b[0;32m      1\u001b[0m \u001b[1;31m# Não podemos utilizar uma variável que não foi definida. Leia a mensagem de erro.\u001b[0m\u001b[1;33m\u001b[0m\u001b[1;33m\u001b[0m\u001b[0m\n\u001b[1;32m----> 2\u001b[1;33m \u001b[0mmy_var\u001b[0m\u001b[1;33m\u001b[0m\u001b[1;33m\u001b[0m\u001b[0m\n\u001b[0m",
      "\u001b[1;31mNameError\u001b[0m: name 'my_var' is not defined"
     ]
    }
   ],
   "source": [
    "# Não podemos utilizar uma variável que não foi definida. Leia a mensagem de erro.\n",
    "my_var"
   ]
  },
  {
   "cell_type": "code",
   "execution_count": 6,
   "id": "9b985f47",
   "metadata": {},
   "outputs": [],
   "source": [
    "var_teste = 2"
   ]
  },
  {
   "cell_type": "code",
   "execution_count": 7,
   "id": "ecd64362",
   "metadata": {},
   "outputs": [
    {
     "data": {
      "text/plain": [
       "2"
      ]
     },
     "execution_count": 7,
     "metadata": {},
     "output_type": "execute_result"
    }
   ],
   "source": [
    "var_teste"
   ]
  },
  {
   "cell_type": "code",
   "execution_count": 8,
   "id": "f3f28f99",
   "metadata": {},
   "outputs": [
    {
     "data": {
      "text/plain": [
       "int"
      ]
     },
     "execution_count": 8,
     "metadata": {},
     "output_type": "execute_result"
    }
   ],
   "source": [
    "type(var_teste)"
   ]
  },
  {
   "cell_type": "code",
   "execution_count": 9,
   "id": "2f8dd8c0",
   "metadata": {},
   "outputs": [],
   "source": [
    "var_teste = 9.5"
   ]
  },
  {
   "cell_type": "code",
   "execution_count": 10,
   "id": "dc497356",
   "metadata": {},
   "outputs": [
    {
     "data": {
      "text/plain": [
       "float"
      ]
     },
     "execution_count": 10,
     "metadata": {},
     "output_type": "execute_result"
    }
   ],
   "source": [
    "type(var_teste)"
   ]
  },
  {
   "cell_type": "code",
   "execution_count": 11,
   "id": "0c4711e0",
   "metadata": {},
   "outputs": [],
   "source": [
    "x = 1"
   ]
  },
  {
   "cell_type": "code",
   "execution_count": 12,
   "id": "7a058d48",
   "metadata": {},
   "outputs": [
    {
     "data": {
      "text/plain": [
       "1"
      ]
     },
     "execution_count": 12,
     "metadata": {},
     "output_type": "execute_result"
    }
   ],
   "source": [
    "x"
   ]
  },
  {
   "cell_type": "markdown",
   "id": "072b0bbf",
   "metadata": {},
   "source": [
    "### Declaração múltipla"
   ]
  },
  {
   "cell_type": "code",
   "execution_count": 13,
   "id": "5ca1b62d",
   "metadata": {},
   "outputs": [],
   "source": [
    "pessoa1, pessoa2, pessoa3 = 'Bob', 'Maria', 'Ana'"
   ]
  },
  {
   "cell_type": "code",
   "execution_count": 14,
   "id": "b439a5d5",
   "metadata": {},
   "outputs": [
    {
     "data": {
      "text/plain": [
       "'Bob'"
      ]
     },
     "execution_count": 14,
     "metadata": {},
     "output_type": "execute_result"
    }
   ],
   "source": [
    "pessoa1"
   ]
  },
  {
   "cell_type": "code",
   "execution_count": 15,
   "id": "28841e42",
   "metadata": {},
   "outputs": [
    {
     "data": {
      "text/plain": [
       "'Maria'"
      ]
     },
     "execution_count": 15,
     "metadata": {},
     "output_type": "execute_result"
    }
   ],
   "source": [
    "pessoa2"
   ]
  },
  {
   "cell_type": "code",
   "execution_count": 16,
   "id": "3df01a25",
   "metadata": {},
   "outputs": [
    {
     "data": {
      "text/plain": [
       "'Ana'"
      ]
     },
     "execution_count": 16,
     "metadata": {},
     "output_type": "execute_result"
    }
   ],
   "source": [
    "pessoa3"
   ]
  },
  {
   "cell_type": "code",
   "execution_count": 17,
   "id": "d32deb3d",
   "metadata": {},
   "outputs": [],
   "source": [
    "fruta1 = fruta2 = fruta3 = 'Melancia'"
   ]
  },
  {
   "cell_type": "code",
   "execution_count": 18,
   "id": "76b1cce4",
   "metadata": {},
   "outputs": [
    {
     "data": {
      "text/plain": [
       "'Melancia'"
      ]
     },
     "execution_count": 18,
     "metadata": {},
     "output_type": "execute_result"
    }
   ],
   "source": [
    "fruta1"
   ]
  },
  {
   "cell_type": "code",
   "execution_count": 19,
   "id": "d1246cc7",
   "metadata": {},
   "outputs": [
    {
     "data": {
      "text/plain": [
       "'Melancia'"
      ]
     },
     "execution_count": 19,
     "metadata": {},
     "output_type": "execute_result"
    }
   ],
   "source": [
    "fruta2"
   ]
  },
  {
   "cell_type": "code",
   "execution_count": 20,
   "id": "96600109",
   "metadata": {},
   "outputs": [
    {
     "data": {
      "text/plain": [
       "'Melancia'"
      ]
     },
     "execution_count": 20,
     "metadata": {},
     "output_type": "execute_result"
    }
   ],
   "source": [
    "fruta3"
   ]
  },
  {
   "cell_type": "code",
   "execution_count": 21,
   "id": "50032852",
   "metadata": {},
   "outputs": [
    {
     "ename": "NameError",
     "evalue": "name 'Fruta2' is not defined",
     "output_type": "error",
     "traceback": [
      "\u001b[1;31m---------------------------------------------------------------------------\u001b[0m",
      "\u001b[1;31mNameError\u001b[0m                                 Traceback (most recent call last)",
      "\u001b[1;32m~\\AppData\\Local\\Temp\\ipykernel_9784\\2507494851.py\u001b[0m in \u001b[0;36m<module>\u001b[1;34m\u001b[0m\n\u001b[0;32m      1\u001b[0m \u001b[1;31m# Atenção!!! Python é case-sensitive, criamos a variável fruta2, mas não a variável Fruta2.\u001b[0m\u001b[1;33m\u001b[0m\u001b[1;33m\u001b[0m\u001b[0m\n\u001b[0;32m      2\u001b[0m \u001b[1;31m# Letras maiúsculas e minúsculas tem diferença no nome da variável.\u001b[0m\u001b[1;33m\u001b[0m\u001b[1;33m\u001b[0m\u001b[0m\n\u001b[1;32m----> 3\u001b[1;33m \u001b[0mFruta2\u001b[0m\u001b[1;33m\u001b[0m\u001b[1;33m\u001b[0m\u001b[0m\n\u001b[0m",
      "\u001b[1;31mNameError\u001b[0m: name 'Fruta2' is not defined"
     ]
    }
   ],
   "source": [
    "# Atenção!!! Python é case-sensitive, criamos a variável fruta2, mas não a variável Fruta2.\n",
    "# Letras maiúsculas e minúsculas tem diferença no nome da variável.\n",
    "Fruta2"
   ]
  },
  {
   "cell_type": "markdown",
   "id": "342d2c6d",
   "metadata": {},
   "source": [
    "###### Pode-se usar letras, números e underline em nome de variável (mas não se pode começar com números)."
   ]
  },
  {
   "cell_type": "code",
   "execution_count": 22,
   "id": "9166d44f",
   "metadata": {},
   "outputs": [],
   "source": [
    "x1 = 50"
   ]
  },
  {
   "cell_type": "code",
   "execution_count": 23,
   "id": "af9f284d",
   "metadata": {},
   "outputs": [
    {
     "data": {
      "text/plain": [
       "50"
      ]
     },
     "execution_count": 23,
     "metadata": {},
     "output_type": "execute_result"
    }
   ],
   "source": [
    "x1"
   ]
  },
  {
   "cell_type": "code",
   "execution_count": 24,
   "id": "cf3dfc6f",
   "metadata": {},
   "outputs": [
    {
     "ename": "SyntaxError",
     "evalue": "invalid syntax (552994449.py, line 2)",
     "output_type": "error",
     "traceback": [
      "\u001b[1;36m  File \u001b[1;32m\"C:\\Users\\Pessoal\\AppData\\Local\\Temp\\ipykernel_9784\\552994449.py\"\u001b[1;36m, line \u001b[1;32m2\u001b[0m\n\u001b[1;33m    1x = 50\u001b[0m\n\u001b[1;37m     ^\u001b[0m\n\u001b[1;31mSyntaxError\u001b[0m\u001b[1;31m:\u001b[0m invalid syntax\n"
     ]
    }
   ],
   "source": [
    "# Mensagem de erro pois a linguagem Python não permite nomes de variáveis que iniciem com nnúmeros\n",
    "1x = 50"
   ]
  },
  {
   "cell_type": "markdown",
   "id": "212701fc",
   "metadata": {},
   "source": [
    "##### Não se pode usar palavras reservadas como nome de variável\n",
    "* False\n",
    "* class\n",
    "* finally\n",
    "* is\n",
    "* return\n",
    "* none\n",
    "* cotinue\n",
    "* for\n",
    "* lambda\n",
    "* try\n",
    "* true\n",
    "* def\n",
    "* from\n",
    "* nonlocal\n",
    "* while\n",
    "* and\n",
    "* del\n",
    "* global\n",
    "* not\n",
    "* with\n",
    "* as\n",
    "* elif\n",
    "* if\n",
    "* or\n",
    "* yleld\n",
    "* assert\n",
    "* else\n",
    "* import\n",
    "* pass\n",
    "* break\n",
    "* except\n",
    "* in\n",
    "* raise"
   ]
  },
  {
   "cell_type": "code",
   "execution_count": 26,
   "id": "e19bfa06",
   "metadata": {},
   "outputs": [
    {
     "ename": "SyntaxError",
     "evalue": "invalid syntax (103517557.py, line 2)",
     "output_type": "error",
     "traceback": [
      "\u001b[1;36m  File \u001b[1;32m\"C:\\Users\\Pessoal\\AppData\\Local\\Temp\\ipykernel_9784\\103517557.py\"\u001b[1;36m, line \u001b[1;32m2\u001b[0m\n\u001b[1;33m    break = 1\u001b[0m\n\u001b[1;37m          ^\u001b[0m\n\u001b[1;31mSyntaxError\u001b[0m\u001b[1;31m:\u001b[0m invalid syntax\n"
     ]
    }
   ],
   "source": [
    "# Não podemos usar palavras reservadas como nome de variável\n",
    "break = 1"
   ]
  },
  {
   "cell_type": "markdown",
   "id": "ac6f5b2b",
   "metadata": {},
   "source": [
    "### Variáveis atribuídas a outras variáveis e ordem dos operadores"
   ]
  },
  {
   "cell_type": "code",
   "execution_count": 27,
   "id": "4d7469e4",
   "metadata": {},
   "outputs": [],
   "source": [
    "largura = 2 "
   ]
  },
  {
   "cell_type": "code",
   "execution_count": 28,
   "id": "8488cbc6",
   "metadata": {},
   "outputs": [],
   "source": [
    "altura = 4"
   ]
  },
  {
   "cell_type": "code",
   "execution_count": 29,
   "id": "622a7460",
   "metadata": {},
   "outputs": [],
   "source": [
    "area = largura * altura"
   ]
  },
  {
   "cell_type": "code",
   "execution_count": 30,
   "id": "aa0371ee",
   "metadata": {},
   "outputs": [
    {
     "data": {
      "text/plain": [
       "8"
      ]
     },
     "execution_count": 30,
     "metadata": {},
     "output_type": "execute_result"
    }
   ],
   "source": [
    "area"
   ]
  },
  {
   "cell_type": "code",
   "execution_count": 31,
   "id": "2f6867b7",
   "metadata": {},
   "outputs": [],
   "source": [
    "perimetro = 2 * largura + 2 * altura"
   ]
  },
  {
   "cell_type": "code",
   "execution_count": 32,
   "id": "0469da33",
   "metadata": {},
   "outputs": [
    {
     "data": {
      "text/plain": [
       "12"
      ]
     },
     "execution_count": 32,
     "metadata": {},
     "output_type": "execute_result"
    }
   ],
   "source": [
    "perimetro"
   ]
  },
  {
   "cell_type": "code",
   "execution_count": 33,
   "id": "cfc8d502",
   "metadata": {},
   "outputs": [],
   "source": [
    "# A ordem dos operadores é a mesma seguida na matemática\n",
    "perimetro = 2 * (largura + 2) * altura"
   ]
  },
  {
   "cell_type": "code",
   "execution_count": 34,
   "id": "36302b55",
   "metadata": {},
   "outputs": [
    {
     "data": {
      "text/plain": [
       "32"
      ]
     },
     "execution_count": 34,
     "metadata": {},
     "output_type": "execute_result"
    }
   ],
   "source": [
    "perimetro"
   ]
  },
  {
   "cell_type": "markdown",
   "id": "8897c8b6",
   "metadata": {},
   "source": [
    "### Operações com variáveis"
   ]
  },
  {
   "cell_type": "code",
   "execution_count": 35,
   "id": "31a8a715",
   "metadata": {},
   "outputs": [],
   "source": [
    "idade1 = 25"
   ]
  },
  {
   "cell_type": "code",
   "execution_count": 36,
   "id": "fe7c3afe",
   "metadata": {},
   "outputs": [],
   "source": [
    "idade2 = 35"
   ]
  },
  {
   "cell_type": "code",
   "execution_count": 37,
   "id": "cd406341",
   "metadata": {},
   "outputs": [
    {
     "data": {
      "text/plain": [
       "60"
      ]
     },
     "execution_count": 37,
     "metadata": {},
     "output_type": "execute_result"
    }
   ],
   "source": [
    "idade1 + idade2"
   ]
  },
  {
   "cell_type": "code",
   "execution_count": 38,
   "id": "2544ebe5",
   "metadata": {},
   "outputs": [
    {
     "data": {
      "text/plain": [
       "10"
      ]
     },
     "execution_count": 38,
     "metadata": {},
     "output_type": "execute_result"
    }
   ],
   "source": [
    "idade2 - idade1"
   ]
  },
  {
   "cell_type": "code",
   "execution_count": 39,
   "id": "081158c3",
   "metadata": {},
   "outputs": [
    {
     "data": {
      "text/plain": [
       "875"
      ]
     },
     "execution_count": 39,
     "metadata": {},
     "output_type": "execute_result"
    }
   ],
   "source": [
    "idade2 * idade1"
   ]
  },
  {
   "cell_type": "code",
   "execution_count": 41,
   "id": "990ce8d9",
   "metadata": {},
   "outputs": [
    {
     "data": {
      "text/plain": [
       "1.4"
      ]
     },
     "execution_count": 41,
     "metadata": {},
     "output_type": "execute_result"
    }
   ],
   "source": [
    "idade2 / idade1"
   ]
  },
  {
   "cell_type": "code",
   "execution_count": 42,
   "id": "7c6d8124",
   "metadata": {},
   "outputs": [
    {
     "data": {
      "text/plain": [
       "10"
      ]
     },
     "execution_count": 42,
     "metadata": {},
     "output_type": "execute_result"
    }
   ],
   "source": [
    "idade2 % idade1"
   ]
  },
  {
   "cell_type": "markdown",
   "id": "8f7a110d",
   "metadata": {},
   "source": [
    "### Concatenação de variáveis"
   ]
  },
  {
   "cell_type": "code",
   "execution_count": 43,
   "id": "c4d45782",
   "metadata": {},
   "outputs": [],
   "source": [
    "nome = 'Bob'"
   ]
  },
  {
   "cell_type": "code",
   "execution_count": 44,
   "id": "bbbb2ad3",
   "metadata": {},
   "outputs": [],
   "source": [
    "sobrenome = 'Marley'"
   ]
  },
  {
   "cell_type": "code",
   "execution_count": 45,
   "id": "d5e04c00",
   "metadata": {},
   "outputs": [],
   "source": [
    "fullName = nome + ' ' + sobrenome"
   ]
  },
  {
   "cell_type": "code",
   "execution_count": 46,
   "id": "07c74e07",
   "metadata": {},
   "outputs": [
    {
     "data": {
      "text/plain": [
       "'Bob Marley'"
      ]
     },
     "execution_count": 46,
     "metadata": {},
     "output_type": "execute_result"
    }
   ],
   "source": [
    "fullName"
   ]
  },
  {
   "cell_type": "markdown",
   "id": "80bbb84e",
   "metadata": {},
   "source": [
    "# Fim"
   ]
  },
  {
   "cell_type": "code",
   "execution_count": null,
   "id": "313832e9",
   "metadata": {},
   "outputs": [],
   "source": []
  }
 ],
 "metadata": {
  "kernelspec": {
   "display_name": "Python 3 (ipykernel)",
   "language": "python",
   "name": "python3"
  },
  "language_info": {
   "codemirror_mode": {
    "name": "ipython",
    "version": 3
   },
   "file_extension": ".py",
   "mimetype": "text/x-python",
   "name": "python",
   "nbconvert_exporter": "python",
   "pygments_lexer": "ipython3",
   "version": "3.9.13"
  }
 },
 "nbformat": 4,
 "nbformat_minor": 5
}
