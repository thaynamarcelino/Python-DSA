{
 "cells": [
  {
   "cell_type": "markdown",
   "id": "d6974a3a",
   "metadata": {},
   "source": [
    "# Data Science Academy\n",
    "# Fundamentos de Linguagem Python Para Análise de Dados e Data Science\n",
    "# Capítulo 3 - Introdução à Lógica de Programação"
   ]
  },
  {
   "cell_type": "code",
   "execution_count": 15,
   "id": "4aad75e8",
   "metadata": {},
   "outputs": [
    {
     "name": "stdout",
     "output_type": "stream",
     "text": [
      "Versão da linguagem python usada neste jupyter notebook: 3.9.13\n"
     ]
    }
   ],
   "source": [
    "# Versão da Linguagem Python\n",
    "from platform import python_version\n",
    "print('Versão da linguagem python usada neste jupyter notebook:', python_version())"
   ]
  },
  {
   "cell_type": "markdown",
   "id": "565f8858",
   "metadata": {},
   "source": [
    "## Pseudocódigo 1 - Calcular a área de um paralelograma\n",
    "Nota: Um paralelogramo é um quadrilátero com lados opostos paralelos (e portanto ângulos opostos iguais). Um quadrilátero com lados iguais é chamado de losango e um paralelogramo cujos ângulos são todos ângulos retos é chamado de retângulo."
   ]
  },
  {
   "cell_type": "markdown",
   "id": "562880f9",
   "metadata": {},
   "source": [
    "Inicie\n",
    "\n",
    "    Exiba \"Bem-Vindo ao calculador de área de paralelogramo\"\n",
    "    Peça para o usuário inserir o comprimento da base\n",
    "    Armazene o comprimento da base em uma variável\n",
    "    Peça para o usuário inserir a altura \n",
    "    Armazene a altura em uma variável\n",
    "    Calcule a área do paralelogramo: base * altura\n",
    "    Armazene o resultado em uma variável \n",
    "    Exiba o resultado\n",
    "Fim"
   ]
  },
  {
   "cell_type": "markdown",
   "id": "80ad1c20",
   "metadata": {},
   "source": [
    "## Convertendo o pseudocódigo 1 em programa Python"
   ]
  },
  {
   "cell_type": "code",
   "execution_count": 16,
   "id": "2fb4a7d1",
   "metadata": {},
   "outputs": [
    {
     "name": "stdout",
     "output_type": "stream",
     "text": [
      "Bem-vindo ao calculador de área de paralelogramo\n"
     ]
    }
   ],
   "source": [
    "print('Bem-vindo ao calculador de área de paralelogramo')"
   ]
  },
  {
   "cell_type": "code",
   "execution_count": 17,
   "id": "497a7910",
   "metadata": {},
   "outputs": [
    {
     "name": "stdout",
     "output_type": "stream",
     "text": [
      "Insira o comprimento da base: 3\n"
     ]
    }
   ],
   "source": [
    "base = float(input('Insira o comprimento da base: '))"
   ]
  },
  {
   "cell_type": "code",
   "execution_count": 18,
   "id": "198e55b6",
   "metadata": {},
   "outputs": [
    {
     "name": "stdout",
     "output_type": "stream",
     "text": [
      "Insira a altura: 4\n"
     ]
    }
   ],
   "source": [
    "altura = float(input('Insira a altura: '))"
   ]
  },
  {
   "cell_type": "code",
   "execution_count": 19,
   "id": "2491aa47",
   "metadata": {},
   "outputs": [],
   "source": [
    "area = base * altura"
   ]
  },
  {
   "cell_type": "code",
   "execution_count": 20,
   "id": "e0739c04",
   "metadata": {},
   "outputs": [
    {
     "name": "stdout",
     "output_type": "stream",
     "text": [
      "A área do paralelogramo é:  12.0\n"
     ]
    }
   ],
   "source": [
    "print('A área do paralelogramo é: ', area)"
   ]
  },
  {
   "cell_type": "markdown",
   "id": "b54515d6",
   "metadata": {},
   "source": [
    "## Pseudocódigo 2 - Calculadora Simples"
   ]
  },
  {
   "cell_type": "markdown",
   "id": "cc5e3956",
   "metadata": {},
   "source": [
    "Inicie\n",
    "\n",
    "    Exiba \"Bem-vindo à calculadora\"\n",
    "    Peça para o usuário inserir o primeiro número\n",
    "    Armazene o primeiro número em uma variável\n",
    "    Peça para o usuário inserir o segundo número\n",
    "    Armazene o segundo número em uma variável\n",
    "    Peça para o usuário selecionar uma operação (+, -, *, /)\n",
    "    Armazene a operação em uma variável\n",
    "    Utilize a operação selecionada e os números armazenados para realizar o cálculo\n",
    "    Exiba o resultado\n",
    "    \n",
    "Fim"
   ]
  },
  {
   "cell_type": "markdown",
   "id": "40192f1c",
   "metadata": {},
   "source": [
    "## Convertendo o pseudocódigo 2 em programa Python"
   ]
  },
  {
   "cell_type": "code",
   "execution_count": 21,
   "id": "c7d371dd",
   "metadata": {},
   "outputs": [
    {
     "name": "stdout",
     "output_type": "stream",
     "text": [
      "Bem-vindo à calculadora\n"
     ]
    }
   ],
   "source": [
    "print('Bem-vindo à calculadora')"
   ]
  },
  {
   "cell_type": "code",
   "execution_count": 22,
   "id": "b8dbc333",
   "metadata": {},
   "outputs": [
    {
     "name": "stdout",
     "output_type": "stream",
     "text": [
      "Insira o primeiro número: 6\n"
     ]
    }
   ],
   "source": [
    "num1 = float(input('Insira o primeiro número: '))"
   ]
  },
  {
   "cell_type": "code",
   "execution_count": 23,
   "id": "a5b2e0e1",
   "metadata": {},
   "outputs": [
    {
     "name": "stdout",
     "output_type": "stream",
     "text": [
      "Insira o segundo número: 7\n"
     ]
    }
   ],
   "source": [
    "num2 = float(input('Insira o segundo número: '))"
   ]
  },
  {
   "cell_type": "code",
   "execution_count": 24,
   "id": "f066530f",
   "metadata": {},
   "outputs": [
    {
     "name": "stdout",
     "output_type": "stream",
     "text": [
      "Selecione uma operação (+, -, *, /): *\n"
     ]
    }
   ],
   "source": [
    "operacao = input('Selecione uma operação (+, -, *, /): ')"
   ]
  },
  {
   "cell_type": "code",
   "execution_count": 25,
   "id": "2fa3b3df",
   "metadata": {},
   "outputs": [
    {
     "name": "stdout",
     "output_type": "stream",
     "text": [
      "O resultado é:  42.0\n"
     ]
    }
   ],
   "source": [
    "if operacao == '+':\n",
    "    resultado = num1 + num2\n",
    "    print('O resultado é ', resultado)\n",
    "\n",
    "elif operacao == '-':\n",
    "    resultado = num1 - num2\n",
    "    print('O resultado é ', resultado)\n",
    "    \n",
    "elif operacao == '*':\n",
    "    resultado = num1 * num2\n",
    "    print('O resultado é: ', resultado)\n",
    "    \n",
    "elif operacao == '/':\n",
    "    resultado = num1 / num2\n",
    "    print('O resultado é: ', resultado)\n",
    "    \n",
    "else:\n",
    "    print('operação inválida.')"
   ]
  },
  {
   "cell_type": "markdown",
   "id": "f59aa953",
   "metadata": {},
   "source": [
    "## Pseudocódigo 3 - Algoritmo Bubble Sort\n",
    "\n",
    "Bubble Sort é um algoritmo de ordenação simples que funciona comparando cada elemento com o próximo, e trocando-os de lugar se eles estiverem em ordem incorreta. O algoritmo repete esse processo várias vezes, até que todos os elementos estejam ordenados. A cada passagem, o maior elemento \"flutua\" para o final do array, como uma bolha, dando origem ao nome do algoritmo."
   ]
  },
  {
   "cell_type": "markdown",
   "id": "57125efc",
   "metadata": {},
   "source": [
    "Inicie\n",
    "\n",
    "    Para cada elemento i no array de tamanho n \n",
    "        Para cada elemento j no array de tamanho n - 1\n",
    "            Se elemento i for maior que elemento j \n",
    "                Troque os elementos i e j \n",
    "    Exiba o array ordenado\n",
    "    \n",
    "Fim"
   ]
  },
  {
   "cell_type": "code",
   "execution_count": 26,
   "id": "9b6fdf3d",
   "metadata": {},
   "outputs": [],
   "source": [
    "# Considere esta lista como exemplo para ordenação com o Bubble sort\n",
    "lista = [6, 3, 12, 7]"
   ]
  },
  {
   "cell_type": "code",
   "execution_count": 27,
   "id": "bc8a9edd",
   "metadata": {},
   "outputs": [],
   "source": [
    "# Primeira passado do algoritmo (troca os elementos 6 e 3 do lugar)\n",
    "lista = [3, 6, 12, 7]"
   ]
  },
  {
   "cell_type": "code",
   "execution_count": 28,
   "id": "cfea7f4e",
   "metadata": {},
   "outputs": [],
   "source": [
    "# Segunda passada do algoritmo (não tem troca entre 6 e 12)\n",
    "lista = [3, 6, 12, 7]"
   ]
  },
  {
   "cell_type": "code",
   "execution_count": 29,
   "id": "326f5308",
   "metadata": {},
   "outputs": [],
   "source": [
    "# Terceira passada do algoritmo (troca os elementos 12 e 7 do lugar)\n",
    "lista = [3, 6, 7, 12]"
   ]
  },
  {
   "cell_type": "markdown",
   "id": "4e9a7240",
   "metadata": {},
   "source": [
    "## Convertendo o pseudocódigo 3 em programa Python"
   ]
  },
  {
   "cell_type": "code",
   "execution_count": 31,
   "id": "7a1c8e8e",
   "metadata": {},
   "outputs": [],
   "source": [
    "lista = [6,7,8,3,10,19,4,1,0,61,30,16,17,82,29,34,43,21,11,39,56,67,12]"
   ]
  },
  {
   "cell_type": "code",
   "execution_count": 40,
   "id": "6ef590fe",
   "metadata": {},
   "outputs": [],
   "source": [
    "def bubble_sort(arr):\n",
    "    \n",
    "    n = len(arr)\n",
    "    \n",
    "    # Para cada elemento i do array\n",
    "    for i in range(n):\n",
    "    \n",
    "        # Para cada elemento j do array\n",
    "        for j in range(0, n-1-1):\n",
    "        \n",
    "            # Se elemento i for maior que elemento j\n",
    "            if arr[j] > arr[j+1]:\n",
    "            \n",
    "                # Troque os elementos i e j\n",
    "                arr[j], arr[j+1] = arr[j+1], arr[j]\n",
    "    \n",
    "    return arr"
   ]
  },
  {
   "cell_type": "code",
   "execution_count": 41,
   "id": "5c0bf675",
   "metadata": {},
   "outputs": [
    {
     "name": "stdout",
     "output_type": "stream",
     "text": [
      "[0, 1, 3, 4, 6, 7, 8, 10, 11, 16, 17, 19, 21, 29, 30, 34, 39, 43, 56, 61, 67, 82, 12]\n"
     ]
    }
   ],
   "source": [
    "print(bubble_sort(lista))"
   ]
  },
  {
   "cell_type": "code",
   "execution_count": 42,
   "id": "631ef60d",
   "metadata": {},
   "outputs": [],
   "source": [
    "lista2 = [60,17,28,3,10,19,4,1,0,61,30,16,17,82,29,34,43,21,11,39,56,67,12]"
   ]
  },
  {
   "cell_type": "code",
   "execution_count": 43,
   "id": "494a1ee6",
   "metadata": {},
   "outputs": [
    {
     "name": "stdout",
     "output_type": "stream",
     "text": [
      "[0, 1, 3, 4, 10, 11, 16, 17, 17, 19, 21, 28, 29, 30, 34, 39, 43, 56, 60, 61, 67, 82, 12]\n"
     ]
    }
   ],
   "source": [
    "print(bubble_sort(lista2))"
   ]
  },
  {
   "cell_type": "markdown",
   "id": "cb496995",
   "metadata": {},
   "source": [
    "# Fim"
   ]
  },
  {
   "cell_type": "code",
   "execution_count": null,
   "id": "0be47d1a",
   "metadata": {},
   "outputs": [],
   "source": []
  }
 ],
 "metadata": {
  "kernelspec": {
   "display_name": "Python 3 (ipykernel)",
   "language": "python",
   "name": "python3"
  },
  "language_info": {
   "codemirror_mode": {
    "name": "ipython",
    "version": 3
   },
   "file_extension": ".py",
   "mimetype": "text/x-python",
   "name": "python",
   "nbconvert_exporter": "python",
   "pygments_lexer": "ipython3",
   "version": "3.9.13"
  }
 },
 "nbformat": 4,
 "nbformat_minor": 5
}
