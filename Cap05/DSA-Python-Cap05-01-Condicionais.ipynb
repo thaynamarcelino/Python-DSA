{
 "cells": [
  {
   "cell_type": "markdown",
   "id": "427af36c",
   "metadata": {},
   "source": [
    "# Data Science Academy\n",
    "## Fundamentos de linguagem python para análise de dados e data science\n",
    "## Capítulo 5 - Condicionais"
   ]
  },
  {
   "cell_type": "code",
   "execution_count": 1,
   "id": "9ebe6cd9",
   "metadata": {},
   "outputs": [
    {
     "name": "stdout",
     "output_type": "stream",
     "text": [
      "Versão da Linguagem Python usada neste jupyter notebook: 3.9.13\n"
     ]
    }
   ],
   "source": [
    "# Versão da Linguagem Python\n",
    "from platform import python_version\n",
    "print('Versão da Linguagem Python usada neste jupyter notebook:', python_version())"
   ]
  },
  {
   "cell_type": "markdown",
   "id": "ea94d034",
   "metadata": {},
   "source": [
    "## Condicional If"
   ]
  },
  {
   "cell_type": "code",
   "execution_count": 2,
   "id": "13cb1294",
   "metadata": {},
   "outputs": [
    {
     "name": "stdout",
     "output_type": "stream",
     "text": [
      "A sentença é verdadeira!\n"
     ]
    }
   ],
   "source": [
    "# Condicional If (Se)\n",
    "if 5 > 2:\n",
    "    print(\"A sentença é verdadeira!\")"
   ]
  },
  {
   "cell_type": "code",
   "execution_count": 3,
   "id": "255efc7c",
   "metadata": {},
   "outputs": [
    {
     "name": "stdout",
     "output_type": "stream",
     "text": [
      "A sentença é falsa!\n"
     ]
    }
   ],
   "source": [
    "# Condicional If...Else\n",
    "if 5 < 2:\n",
    "    print(\"A sentença é verdadeira!\")\n",
    "else:\n",
    "    print(\"A sentença é falsa!\")"
   ]
  },
  {
   "cell_type": "code",
   "execution_count": 4,
   "id": "00a66ec6",
   "metadata": {},
   "outputs": [
    {
     "name": "stdout",
     "output_type": "stream",
     "text": [
      "Hoje vai chover!\n"
     ]
    }
   ],
   "source": [
    "# Condicional If...Else com Variável\n",
    "dia = \"Terça\"\n",
    "if dia == \"Segunda\":\n",
    "    print(\"Hoje fará sol!\")\n",
    "else:\n",
    "    print(\"Hoje vai chover!\")"
   ]
  },
  {
   "cell_type": "code",
   "execution_count": 5,
   "id": "7b291d50",
   "metadata": {},
   "outputs": [
    {
     "name": "stdout",
     "output_type": "stream",
     "text": [
      "Hoje vai chover!\n"
     ]
    }
   ],
   "source": [
    "# Podemos usar o operador elif para validar mais de uma condição\n",
    "if dia == \"Segunda\":\n",
    "    print(\"Hoje fará sol!\")\n",
    "elif dia == \"Terça\":\n",
    "    print(\"Hoje vai chover!\")\n",
    "else:\n",
    "    print(\"Sem previsão do tempo para o dia selecionado\")"
   ]
  },
  {
   "cell_type": "markdown",
   "id": "a334b466",
   "metadata": {},
   "source": [
    "## Operadores Relacionais\n",
    "Retorna um valor booleano."
   ]
  },
  {
   "cell_type": "code",
   "execution_count": 6,
   "id": "e38e52e4",
   "metadata": {},
   "outputs": [
    {
     "data": {
      "text/plain": [
       "True"
      ]
     },
     "execution_count": 6,
     "metadata": {},
     "output_type": "execute_result"
    }
   ],
   "source": [
    "6 > 3"
   ]
  },
  {
   "cell_type": "code",
   "execution_count": 7,
   "id": "18b03603",
   "metadata": {},
   "outputs": [
    {
     "data": {
      "text/plain": [
       "False"
      ]
     },
     "execution_count": 7,
     "metadata": {},
     "output_type": "execute_result"
    }
   ],
   "source": [
    "3 > 7"
   ]
  },
  {
   "cell_type": "code",
   "execution_count": 8,
   "id": "b25dc91e",
   "metadata": {},
   "outputs": [
    {
     "data": {
      "text/plain": [
       "True"
      ]
     },
     "execution_count": 8,
     "metadata": {},
     "output_type": "execute_result"
    }
   ],
   "source": [
    "4 < 8"
   ]
  },
  {
   "cell_type": "code",
   "execution_count": 9,
   "id": "bc6f3b17",
   "metadata": {},
   "outputs": [
    {
     "data": {
      "text/plain": [
       "True"
      ]
     },
     "execution_count": 9,
     "metadata": {},
     "output_type": "execute_result"
    }
   ],
   "source": [
    "4 >= 4"
   ]
  },
  {
   "cell_type": "code",
   "execution_count": 10,
   "id": "8673f6a7",
   "metadata": {},
   "outputs": [
    {
     "data": {
      "text/plain": [
       "True"
      ]
     },
     "execution_count": 10,
     "metadata": {},
     "output_type": "execute_result"
    }
   ],
   "source": [
    "5 == 5"
   ]
  },
  {
   "cell_type": "code",
   "execution_count": 11,
   "id": "f8fdbbd0",
   "metadata": {},
   "outputs": [
    {
     "name": "stdout",
     "output_type": "stream",
     "text": [
      "Testando Python!\n"
     ]
    }
   ],
   "source": [
    "if 5 == 5:\n",
    "    print(\"Testando Python!\")"
   ]
  },
  {
   "cell_type": "code",
   "execution_count": 12,
   "id": "c776c0a0",
   "metadata": {},
   "outputs": [
    {
     "name": "stdout",
     "output_type": "stream",
     "text": [
      "Parece que o Python funciona!\n"
     ]
    }
   ],
   "source": [
    "if True:\n",
    "    print('Parece que o Python funciona!')"
   ]
  },
  {
   "cell_type": "code",
   "execution_count": 13,
   "id": "e8214a19",
   "metadata": {},
   "outputs": [
    {
     "ename": "SyntaxError",
     "evalue": "invalid syntax (3621467836.py, line 2)",
     "output_type": "error",
     "traceback": [
      "\u001b[1;36m  File \u001b[1;32m\"C:\\Users\\Pessoal\\AppData\\Local\\Temp\\ipykernel_12256\\3621467836.py\"\u001b[1;36m, line \u001b[1;32m2\u001b[0m\n\u001b[1;33m    if 4 > 3\u001b[0m\n\u001b[1;37m            ^\u001b[0m\n\u001b[1;31mSyntaxError\u001b[0m\u001b[1;31m:\u001b[0m invalid syntax\n"
     ]
    }
   ],
   "source": [
    "# Atenção com a sintaxe\n",
    "if 4 > 3\n",
    "    print(\"Tudo funciona!\")"
   ]
  },
  {
   "cell_type": "code",
   "execution_count": 14,
   "id": "e4311d87",
   "metadata": {},
   "outputs": [
    {
     "ename": "IndentationError",
     "evalue": "expected an indented block (2767630524.py, line 3)",
     "output_type": "error",
     "traceback": [
      "\u001b[1;36m  File \u001b[1;32m\"C:\\Users\\Pessoal\\AppData\\Local\\Temp\\ipykernel_12256\\2767630524.py\"\u001b[1;36m, line \u001b[1;32m3\u001b[0m\n\u001b[1;33m    print(\"Tudo funciona!\")\u001b[0m\n\u001b[1;37m    ^\u001b[0m\n\u001b[1;31mIndentationError\u001b[0m\u001b[1;31m:\u001b[0m expected an indented block\n"
     ]
    }
   ],
   "source": [
    "# Atenção com a sintaxe\n",
    "if 4 > 3:\n",
    "print(\"Tudo funciona!\") "
   ]
  },
  {
   "cell_type": "markdown",
   "id": "5df87ddf",
   "metadata": {},
   "source": [
    "## Condicionais Aninhados"
   ]
  },
  {
   "cell_type": "code",
   "execution_count": 15,
   "id": "9c207cf5",
   "metadata": {},
   "outputs": [
    {
     "name": "stdout",
     "output_type": "stream",
     "text": [
      "Você pode dirigir!\n"
     ]
    }
   ],
   "source": [
    "idade = 18\n",
    "if idade > 17:\n",
    "    print(\"Você pode dirigir!\")"
   ]
  },
  {
   "cell_type": "code",
   "execution_count": 16,
   "id": "6ebc0ab6",
   "metadata": {},
   "outputs": [
    {
     "name": "stdout",
     "output_type": "stream",
     "text": [
      "OK Bob, você está autoriado a entrar!\n"
     ]
    }
   ],
   "source": [
    "Nome = \"Bob\"\n",
    "if idade > 13:\n",
    "    if Nome == \"Bob\":\n",
    "        print(\"OK Bob, você está autoriado a entrar!\")\n",
    "    else:\n",
    "        print(\"Desculpe, mas você não pode entrar!\")"
   ]
  },
  {
   "cell_type": "code",
   "execution_count": 17,
   "id": "5cb5a1f2",
   "metadata": {},
   "outputs": [
    {
     "name": "stdout",
     "output_type": "stream",
     "text": [
      "OK Bob, você está autorizado a entrar!\n"
     ]
    }
   ],
   "source": [
    "idade = 13\n",
    "Nome: \"Bob\"\n",
    "if idade >= 13 and Nome == \"Bob\":\n",
    "    print(\"OK Bob, você está autorizado a entrar!\")"
   ]
  },
  {
   "cell_type": "code",
   "execution_count": 18,
   "id": "e0d0e157",
   "metadata": {},
   "outputs": [
    {
     "name": "stdout",
     "output_type": "stream",
     "text": [
      "OK Bob, você está autorizado a entar!\n"
     ]
    }
   ],
   "source": [
    "idade = 12\n",
    "Nome = \"Bob\"\n",
    "if (idade >= 13) or (Nome == \"Bob\"):\n",
    "    print(\"OK Bob, você está autorizado a entar!\")"
   ]
  },
  {
   "cell_type": "markdown",
   "id": "bbbf2bf3",
   "metadata": {},
   "source": [
    "## Operadores Lógicos"
   ]
  },
  {
   "cell_type": "code",
   "execution_count": 19,
   "id": "870de6d4",
   "metadata": {},
   "outputs": [
    {
     "name": "stdout",
     "output_type": "stream",
     "text": [
      "Você pode dirigir!\n"
     ]
    }
   ],
   "source": [
    "idade = 18\n",
    "nome = \"Bob\"\n",
    "if idade > 17:\n",
    "    print(\"Você pode dirigir!\")"
   ]
  },
  {
   "cell_type": "code",
   "execution_count": 20,
   "id": "a26ca2e1",
   "metadata": {},
   "outputs": [
    {
     "name": "stdout",
     "output_type": "stream",
     "text": [
      "Autorizado!\n"
     ]
    }
   ],
   "source": [
    "idade = 18\n",
    "if idade > 17 and nome == \"Bob\":\n",
    "    print(\"Autorizado!\")"
   ]
  },
  {
   "cell_type": "markdown",
   "id": "4cc008bd",
   "metadata": {},
   "source": [
    "Os operadores lógicos funcionam assim:\n",
    "\n",
    "- Operador **and** - Retorna True se ambas as declarações forem verdadeiras.\n",
    "- Operador **or** - Retorna True se uma das declarações for verdadeira.\n",
    "- Operador **not** - Inverte o resultado, retorna False se o resultado for True."
   ]
  },
  {
   "cell_type": "code",
   "execution_count": 21,
   "id": "4b1c258a",
   "metadata": {},
   "outputs": [
    {
     "name": "stdout",
     "output_type": "stream",
     "text": [
      "Isso está sendo impresso porque as duas condições são verdadeiras!\n"
     ]
    }
   ],
   "source": [
    "# Operador and\n",
    "\n",
    "numero = 4 \n",
    "\n",
    "if (numero > 2) and (numero % 2 == 0):\n",
    "    print(\"Isso está sendo impresso porque as duas condições são verdadeiras!\")"
   ]
  },
  {
   "cell_type": "code",
   "execution_count": 22,
   "id": "907648a2",
   "metadata": {},
   "outputs": [
    {
     "name": "stdout",
     "output_type": "stream",
     "text": [
      "Isso está sendo impresso porque uma das duas condições é falsa!\n"
     ]
    }
   ],
   "source": [
    "# Operador and\n",
    "\n",
    "numero = 4\n",
    "\n",
    "if (numero > 5) and (numero % 2 == 0):\n",
    "    print(\"Isso está sendo impresso porque as duas condições são verdadeiras!\")\n",
    "else:\n",
    "    print(\"Isso está sendo impresso porque uma das duas condições é falsa!\")"
   ]
  },
  {
   "cell_type": "code",
   "execution_count": 23,
   "id": "56cce7e1",
   "metadata": {},
   "outputs": [
    {
     "name": "stdout",
     "output_type": "stream",
     "text": [
      "Isso está sendo impresso porque uma das duas condições é verdadeira!\n"
     ]
    }
   ],
   "source": [
    "# Operador or \n",
    "\n",
    "numero = 4\n",
    "\n",
    "if (numero > 5) or (numero % 2 == 0):\n",
    "    print(\"Isso está sendo impresso porque uma das duas condições é verdadeira!\")"
   ]
  },
  {
   "cell_type": "code",
   "execution_count": 24,
   "id": "f2f0f211",
   "metadata": {},
   "outputs": [
    {
     "name": "stdout",
     "output_type": "stream",
     "text": [
      "Isso está sendo impresso porque as duas condições são verdadeiras!\n"
     ]
    }
   ],
   "source": [
    "# Operador not -- serve para inverter o resultado de uma regra\n",
    "\n",
    "numero = 4\n",
    "\n",
    "if not(numero > 5) and (numero % 2 == 0):\n",
    "    print(\"Isso está sendo impresso porque as duas condições são verdadeiras!\")\n",
    "else:\n",
    "    print(\"Isso está sendo impresso porque uma das duas condições é falsa!\")"
   ]
  },
  {
   "cell_type": "code",
   "execution_count": 25,
   "id": "dd1cb637",
   "metadata": {},
   "outputs": [
    {
     "name": "stdout",
     "output_type": "stream",
     "text": [
      "Isso está sendo impresso porque as duas primeiras condições são verdadeiras ou a terceira é verdadeira!\n"
     ]
    }
   ],
   "source": [
    "# Operador and, or e not\n",
    "\n",
    "numero = 4\n",
    "\n",
    "if (not(numero > 5) and (numero % 2 == 0)) or (numero == 4):\n",
    "    print(\"Isso está sendo impresso porque as duas primeiras condições são verdadeiras ou a terceira é verdadeira!\")"
   ]
  },
  {
   "cell_type": "code",
   "execution_count": 26,
   "id": "72512f37",
   "metadata": {},
   "outputs": [
    {
     "name": "stdout",
     "output_type": "stream",
     "text": [
      "Você foi aprovado!\n"
     ]
    }
   ],
   "source": [
    "# Exemplo com o uso de variáveis\n",
    "disciplina = 'Data Science'\n",
    "nota_fiscal = 70\n",
    "\n",
    "if disciplina == 'Data Science' and nota_fiscal>= 70:\n",
    "    print('Você foi aprovado!')\n",
    "else:\n",
    "    print('Lamento, acho que você precisa estudar mais!')"
   ]
  },
  {
   "cell_type": "code",
   "execution_count": 27,
   "id": "5fef360e",
   "metadata": {},
   "outputs": [
    {
     "name": "stdout",
     "output_type": "stream",
     "text": [
      "Lamento, acho que você precisa estudar mais!\n"
     ]
    }
   ],
   "source": [
    "# Usando mais de uma condição na cláusula if\n",
    "\n",
    "disciplina = 'Data Science'\n",
    "nota_final = 60\n",
    "\n",
    "if disciplina == 'Data Science' and nota_final>= 70:\n",
    "    print('Você foi aprovado!')\n",
    "else:\n",
    "    print('Lamento, acho que você precisa estudar mais!')"
   ]
  },
  {
   "cell_type": "code",
   "execution_count": 28,
   "id": "7b65f79a",
   "metadata": {},
   "outputs": [
    {
     "name": "stdout",
     "output_type": "stream",
     "text": [
      "Você foi aprovado em Data Science com média final 90!\n"
     ]
    }
   ],
   "source": [
    "# Usando mais de uma condição na cláusula if e introduzindo Placeholders\n",
    "\n",
    "disciplina = 'Data Science'\n",
    "nota_final = 90\n",
    "semestre = 2\n",
    "\n",
    "if disciplina == 'Data Science' and nota_final >= 80 and semestre != 1:\n",
    "    print('Você foi aprovado em %s com média final %r!' % (disciplina, nota_final))\n",
    "else:\n",
    "    print('Lamento, acho que você precisa estudar masi!')"
   ]
  },
  {
   "cell_type": "markdown",
   "id": "a89a4af1",
   "metadata": {},
   "source": [
    "# Fim"
   ]
  }
 ],
 "metadata": {
  "kernelspec": {
   "display_name": "Python 3 (ipykernel)",
   "language": "python",
   "name": "python3"
  },
  "language_info": {
   "codemirror_mode": {
    "name": "ipython",
    "version": 3
   },
   "file_extension": ".py",
   "mimetype": "text/x-python",
   "name": "python",
   "nbconvert_exporter": "python",
   "pygments_lexer": "ipython3",
   "version": "3.9.13"
  }
 },
 "nbformat": 4,
 "nbformat_minor": 5
}
